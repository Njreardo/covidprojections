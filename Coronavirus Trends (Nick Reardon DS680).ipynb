{
 "cells": [
  {
   "cell_type": "code",
   "execution_count": 3,
   "id": "21888dee-66b0-4a08-a96b-d48e4aa1fae5",
   "metadata": {},
   "outputs": [],
   "source": [
    "import pandas as pd\n",
    "import numpy as np\n",
    "import seaborn as sns\n",
    "sns.set()\n",
    "\n",
    "pd.set_option('max_r', None)\n",
    "pd.set_option('max_columns', None)"
   ]
  },
  {
   "cell_type": "code",
   "execution_count": 4,
   "id": "a32766ab-c286-414c-a6e1-3d62413e75ac",
   "metadata": {},
   "outputs": [
    {
     "data": {
      "text/plain": [
       "'/Users/nicholasreardon/Documents/School/Applied Data Science'"
      ]
     },
     "execution_count": 4,
     "metadata": {},
     "output_type": "execute_result"
    }
   ],
   "source": [
    "%pwd"
   ]
  },
  {
   "cell_type": "code",
   "execution_count": 5,
   "id": "32567c8f-2d1e-4790-88d1-b4fdb0835fce",
   "metadata": {},
   "outputs": [],
   "source": [
    "df = pd.read_excel('Coronavirus trends.xlsx')"
   ]
  },
  {
   "cell_type": "code",
   "execution_count": 6,
   "id": "5340c10c-444c-4b1b-b242-22524bc33d99",
   "metadata": {},
   "outputs": [
    {
     "data": {
      "text/plain": [
       "(97576, 6)"
      ]
     },
     "execution_count": 6,
     "metadata": {},
     "output_type": "execute_result"
    }
   ],
   "source": [
    "df.shape"
   ]
  },
  {
   "cell_type": "code",
   "execution_count": 7,
   "id": "6d78dc2e-3bd8-4f77-b92f-c326497c9d74",
   "metadata": {},
   "outputs": [
    {
     "data": {
      "text/html": [
       "<div>\n",
       "<style scoped>\n",
       "    .dataframe tbody tr th:only-of-type {\n",
       "        vertical-align: middle;\n",
       "    }\n",
       "\n",
       "    .dataframe tbody tr th {\n",
       "        vertical-align: top;\n",
       "    }\n",
       "\n",
       "    .dataframe thead th {\n",
       "        text-align: right;\n",
       "    }\n",
       "</style>\n",
       "<table border=\"1\" class=\"dataframe\">\n",
       "  <thead>\n",
       "    <tr style=\"text-align: right;\">\n",
       "      <th></th>\n",
       "      <th>date</th>\n",
       "      <th>county</th>\n",
       "      <th>state</th>\n",
       "      <th>fips</th>\n",
       "      <th>cases</th>\n",
       "      <th>deaths</th>\n",
       "    </tr>\n",
       "  </thead>\n",
       "  <tbody>\n",
       "    <tr>\n",
       "      <th>60298</th>\n",
       "      <td>2022-02-14</td>\n",
       "      <td>Perkins</td>\n",
       "      <td>Nebraska</td>\n",
       "      <td>31135.0</td>\n",
       "      <td>518</td>\n",
       "      <td>12.0</td>\n",
       "    </tr>\n",
       "    <tr>\n",
       "      <th>38808</th>\n",
       "      <td>2022-02-07</td>\n",
       "      <td>Page</td>\n",
       "      <td>Virginia</td>\n",
       "      <td>51139.0</td>\n",
       "      <td>5368</td>\n",
       "      <td>103.0</td>\n",
       "    </tr>\n",
       "    <tr>\n",
       "      <th>56448</th>\n",
       "      <td>2022-02-13</td>\n",
       "      <td>East Feliciana</td>\n",
       "      <td>Louisiana</td>\n",
       "      <td>22037.0</td>\n",
       "      <td>7213</td>\n",
       "      <td>159.0</td>\n",
       "    </tr>\n",
       "    <tr>\n",
       "      <th>33746</th>\n",
       "      <td>2022-02-06</td>\n",
       "      <td>Charles</td>\n",
       "      <td>Maryland</td>\n",
       "      <td>24017.0</td>\n",
       "      <td>26537</td>\n",
       "      <td>326.0</td>\n",
       "    </tr>\n",
       "    <tr>\n",
       "      <th>36981</th>\n",
       "      <td>2022-02-07</td>\n",
       "      <td>Lincoln</td>\n",
       "      <td>Maine</td>\n",
       "      <td>23015.0</td>\n",
       "      <td>3815</td>\n",
       "      <td>21.0</td>\n",
       "    </tr>\n",
       "    <tr>\n",
       "      <th>19453</th>\n",
       "      <td>2022-02-01</td>\n",
       "      <td>Iowa</td>\n",
       "      <td>Wisconsin</td>\n",
       "      <td>55049.0</td>\n",
       "      <td>4882</td>\n",
       "      <td>24.0</td>\n",
       "    </tr>\n",
       "    <tr>\n",
       "      <th>9998</th>\n",
       "      <td>2022-01-30</td>\n",
       "      <td>Solano</td>\n",
       "      <td>California</td>\n",
       "      <td>6095.0</td>\n",
       "      <td>74199</td>\n",
       "      <td>407.0</td>\n",
       "    </tr>\n",
       "    <tr>\n",
       "      <th>8989</th>\n",
       "      <td>2022-01-29</td>\n",
       "      <td>Codington</td>\n",
       "      <td>South Dakota</td>\n",
       "      <td>46029.0</td>\n",
       "      <td>7865</td>\n",
       "      <td>94.0</td>\n",
       "    </tr>\n",
       "    <tr>\n",
       "      <th>19858</th>\n",
       "      <td>2022-02-02</td>\n",
       "      <td>Collier</td>\n",
       "      <td>Florida</td>\n",
       "      <td>12021.0</td>\n",
       "      <td>78527</td>\n",
       "      <td>926.0</td>\n",
       "    </tr>\n",
       "    <tr>\n",
       "      <th>81593</th>\n",
       "      <td>2022-02-21</td>\n",
       "      <td>Kiowa</td>\n",
       "      <td>Colorado</td>\n",
       "      <td>8061.0</td>\n",
       "      <td>326</td>\n",
       "      <td>6.0</td>\n",
       "    </tr>\n",
       "  </tbody>\n",
       "</table>\n",
       "</div>"
      ],
      "text/plain": [
       "            date          county         state     fips  cases  deaths\n",
       "60298 2022-02-14         Perkins      Nebraska  31135.0    518    12.0\n",
       "38808 2022-02-07            Page      Virginia  51139.0   5368   103.0\n",
       "56448 2022-02-13  East Feliciana     Louisiana  22037.0   7213   159.0\n",
       "33746 2022-02-06         Charles      Maryland  24017.0  26537   326.0\n",
       "36981 2022-02-07         Lincoln         Maine  23015.0   3815    21.0\n",
       "19453 2022-02-01            Iowa     Wisconsin  55049.0   4882    24.0\n",
       "9998  2022-01-30          Solano    California   6095.0  74199   407.0\n",
       "8989  2022-01-29       Codington  South Dakota  46029.0   7865    94.0\n",
       "19858 2022-02-02         Collier       Florida  12021.0  78527   926.0\n",
       "81593 2022-02-21           Kiowa      Colorado   8061.0    326     6.0"
      ]
     },
     "execution_count": 7,
     "metadata": {},
     "output_type": "execute_result"
    }
   ],
   "source": [
    "df.sample(10)"
   ]
  },
  {
   "cell_type": "code",
   "execution_count": 8,
   "id": "791132b5-c4e9-4f26-aa9a-8c52e99e78d3",
   "metadata": {},
   "outputs": [],
   "source": [
    "df.fillna(0, inplace=True)"
   ]
  },
  {
   "cell_type": "code",
   "execution_count": 9,
   "id": "52c684d2-44b3-455c-9640-fad7720a833f",
   "metadata": {},
   "outputs": [
    {
     "data": {
      "text/html": [
       "<div>\n",
       "<style scoped>\n",
       "    .dataframe tbody tr th:only-of-type {\n",
       "        vertical-align: middle;\n",
       "    }\n",
       "\n",
       "    .dataframe tbody tr th {\n",
       "        vertical-align: top;\n",
       "    }\n",
       "\n",
       "    .dataframe thead th {\n",
       "        text-align: right;\n",
       "    }\n",
       "</style>\n",
       "<table border=\"1\" class=\"dataframe\">\n",
       "  <thead>\n",
       "    <tr style=\"text-align: right;\">\n",
       "      <th></th>\n",
       "      <th>date</th>\n",
       "      <th>county</th>\n",
       "      <th>state</th>\n",
       "      <th>fips</th>\n",
       "      <th>cases</th>\n",
       "      <th>deaths</th>\n",
       "    </tr>\n",
       "  </thead>\n",
       "  <tbody>\n",
       "    <tr>\n",
       "      <th>34184</th>\n",
       "      <td>2022-02-06</td>\n",
       "      <td>Phillips</td>\n",
       "      <td>Montana</td>\n",
       "      <td>30071.0</td>\n",
       "      <td>1003</td>\n",
       "      <td>28.0</td>\n",
       "    </tr>\n",
       "    <tr>\n",
       "      <th>1185</th>\n",
       "      <td>2022-01-27</td>\n",
       "      <td>West Feliciana</td>\n",
       "      <td>Louisiana</td>\n",
       "      <td>22125.0</td>\n",
       "      <td>2655</td>\n",
       "      <td>41.0</td>\n",
       "    </tr>\n",
       "    <tr>\n",
       "      <th>41108</th>\n",
       "      <td>2022-02-08</td>\n",
       "      <td>Ashland</td>\n",
       "      <td>Ohio</td>\n",
       "      <td>39005.0</td>\n",
       "      <td>11728</td>\n",
       "      <td>202.0</td>\n",
       "    </tr>\n",
       "    <tr>\n",
       "      <th>17160</th>\n",
       "      <td>2022-02-01</td>\n",
       "      <td>Warren</td>\n",
       "      <td>Iowa</td>\n",
       "      <td>19181.0</td>\n",
       "      <td>11464</td>\n",
       "      <td>121.0</td>\n",
       "    </tr>\n",
       "    <tr>\n",
       "      <th>56440</th>\n",
       "      <td>2022-02-13</td>\n",
       "      <td>Caldwell</td>\n",
       "      <td>Louisiana</td>\n",
       "      <td>22021.0</td>\n",
       "      <td>2991</td>\n",
       "      <td>46.0</td>\n",
       "    </tr>\n",
       "    <tr>\n",
       "      <th>41449</th>\n",
       "      <td>2022-02-08</td>\n",
       "      <td>Vega Alta</td>\n",
       "      <td>Puerto Rico</td>\n",
       "      <td>72143.0</td>\n",
       "      <td>5942</td>\n",
       "      <td>0.0</td>\n",
       "    </tr>\n",
       "    <tr>\n",
       "      <th>41666</th>\n",
       "      <td>2022-02-08</td>\n",
       "      <td>White</td>\n",
       "      <td>Tennessee</td>\n",
       "      <td>47185.0</td>\n",
       "      <td>7521</td>\n",
       "      <td>120.0</td>\n",
       "    </tr>\n",
       "    <tr>\n",
       "      <th>84923</th>\n",
       "      <td>2022-02-22</td>\n",
       "      <td>Lafayette</td>\n",
       "      <td>Florida</td>\n",
       "      <td>12067.0</td>\n",
       "      <td>2746</td>\n",
       "      <td>52.0</td>\n",
       "    </tr>\n",
       "    <tr>\n",
       "      <th>27372</th>\n",
       "      <td>2022-02-04</td>\n",
       "      <td>Cook</td>\n",
       "      <td>Minnesota</td>\n",
       "      <td>27031.0</td>\n",
       "      <td>513</td>\n",
       "      <td>2.0</td>\n",
       "    </tr>\n",
       "    <tr>\n",
       "      <th>59598</th>\n",
       "      <td>2022-02-14</td>\n",
       "      <td>Franklin</td>\n",
       "      <td>Kentucky</td>\n",
       "      <td>21073.0</td>\n",
       "      <td>12681</td>\n",
       "      <td>127.0</td>\n",
       "    </tr>\n",
       "  </tbody>\n",
       "</table>\n",
       "</div>"
      ],
      "text/plain": [
       "            date          county        state     fips  cases  deaths\n",
       "34184 2022-02-06        Phillips      Montana  30071.0   1003    28.0\n",
       "1185  2022-01-27  West Feliciana    Louisiana  22125.0   2655    41.0\n",
       "41108 2022-02-08         Ashland         Ohio  39005.0  11728   202.0\n",
       "17160 2022-02-01          Warren         Iowa  19181.0  11464   121.0\n",
       "56440 2022-02-13        Caldwell    Louisiana  22021.0   2991    46.0\n",
       "41449 2022-02-08       Vega Alta  Puerto Rico  72143.0   5942     0.0\n",
       "41666 2022-02-08           White    Tennessee  47185.0   7521   120.0\n",
       "84923 2022-02-22       Lafayette      Florida  12067.0   2746    52.0\n",
       "27372 2022-02-04            Cook    Minnesota  27031.0    513     2.0\n",
       "59598 2022-02-14        Franklin     Kentucky  21073.0  12681   127.0"
      ]
     },
     "execution_count": 9,
     "metadata": {},
     "output_type": "execute_result"
    }
   ],
   "source": [
    "df.sample(10)"
   ]
  },
  {
   "cell_type": "code",
   "execution_count": 10,
   "id": "05c8bfe2-4c31-436c-a904-b29e712f9230",
   "metadata": {},
   "outputs": [],
   "source": [
    "mi = df[df['state']=='Michigan']"
   ]
  },
  {
   "cell_type": "code",
   "execution_count": 11,
   "id": "bdbfec2e-ae0c-4e9f-b8fa-175e311a8f88",
   "metadata": {},
   "outputs": [
    {
     "data": {
      "text/plain": [
       "(2520, 6)"
      ]
     },
     "execution_count": 11,
     "metadata": {},
     "output_type": "execute_result"
    }
   ],
   "source": [
    "mi.shape"
   ]
  },
  {
   "cell_type": "code",
   "execution_count": 12,
   "id": "ae303b05-4f4a-4e59-a999-bc981f0f65ca",
   "metadata": {},
   "outputs": [
    {
     "data": {
      "text/plain": [
       "84"
      ]
     },
     "execution_count": 12,
     "metadata": {},
     "output_type": "execute_result"
    }
   ],
   "source": [
    "len(mi['county'].unique())"
   ]
  },
  {
   "cell_type": "code",
   "execution_count": 13,
   "id": "d738a5fa-e729-43d7-bd9e-516aaef4d596",
   "metadata": {},
   "outputs": [
    {
     "data": {
      "text/plain": [
       "30.0"
      ]
     },
     "execution_count": 13,
     "metadata": {},
     "output_type": "execute_result"
    }
   ],
   "source": [
    "# Days of data\n",
    "\n",
    "2520/84"
   ]
  },
  {
   "cell_type": "code",
   "execution_count": 14,
   "id": "11f9da79-c21d-4bb8-996b-4df79b2b9dc8",
   "metadata": {},
   "outputs": [
    {
     "data": {
      "text/html": [
       "<div>\n",
       "<style scoped>\n",
       "    .dataframe tbody tr th:only-of-type {\n",
       "        vertical-align: middle;\n",
       "    }\n",
       "\n",
       "    .dataframe tbody tr th {\n",
       "        vertical-align: top;\n",
       "    }\n",
       "\n",
       "    .dataframe thead th {\n",
       "        text-align: right;\n",
       "    }\n",
       "</style>\n",
       "<table border=\"1\" class=\"dataframe\">\n",
       "  <thead>\n",
       "    <tr style=\"text-align: right;\">\n",
       "      <th></th>\n",
       "      <th>date</th>\n",
       "      <th>county</th>\n",
       "      <th>state</th>\n",
       "      <th>fips</th>\n",
       "      <th>cases</th>\n",
       "      <th>deaths</th>\n",
       "    </tr>\n",
       "  </thead>\n",
       "  <tbody>\n",
       "    <tr>\n",
       "      <th>1244</th>\n",
       "      <td>2022-01-27</td>\n",
       "      <td>Alcona</td>\n",
       "      <td>Michigan</td>\n",
       "      <td>26001.0</td>\n",
       "      <td>1588</td>\n",
       "      <td>63.0</td>\n",
       "    </tr>\n",
       "    <tr>\n",
       "      <th>1245</th>\n",
       "      <td>2022-01-27</td>\n",
       "      <td>Alger</td>\n",
       "      <td>Michigan</td>\n",
       "      <td>26003.0</td>\n",
       "      <td>1731</td>\n",
       "      <td>12.0</td>\n",
       "    </tr>\n",
       "    <tr>\n",
       "      <th>1246</th>\n",
       "      <td>2022-01-27</td>\n",
       "      <td>Allegan</td>\n",
       "      <td>Michigan</td>\n",
       "      <td>26005.0</td>\n",
       "      <td>24955</td>\n",
       "      <td>304.0</td>\n",
       "    </tr>\n",
       "    <tr>\n",
       "      <th>1247</th>\n",
       "      <td>2022-01-27</td>\n",
       "      <td>Alpena</td>\n",
       "      <td>Michigan</td>\n",
       "      <td>26007.0</td>\n",
       "      <td>5068</td>\n",
       "      <td>123.0</td>\n",
       "    </tr>\n",
       "    <tr>\n",
       "      <th>1248</th>\n",
       "      <td>2022-01-27</td>\n",
       "      <td>Antrim</td>\n",
       "      <td>Michigan</td>\n",
       "      <td>26009.0</td>\n",
       "      <td>3939</td>\n",
       "      <td>53.0</td>\n",
       "    </tr>\n",
       "  </tbody>\n",
       "</table>\n",
       "</div>"
      ],
      "text/plain": [
       "           date   county     state     fips  cases  deaths\n",
       "1244 2022-01-27   Alcona  Michigan  26001.0   1588    63.0\n",
       "1245 2022-01-27    Alger  Michigan  26003.0   1731    12.0\n",
       "1246 2022-01-27  Allegan  Michigan  26005.0  24955   304.0\n",
       "1247 2022-01-27   Alpena  Michigan  26007.0   5068   123.0\n",
       "1248 2022-01-27   Antrim  Michigan  26009.0   3939    53.0"
      ]
     },
     "execution_count": 14,
     "metadata": {},
     "output_type": "execute_result"
    }
   ],
   "source": [
    "mi.head()"
   ]
  },
  {
   "cell_type": "code",
   "execution_count": 15,
   "id": "86c5b03e-e771-4d17-b52f-2d6667a52f9c",
   "metadata": {},
   "outputs": [],
   "source": [
    "sns.set(rc={'figure.figsize':(11.7,8.27)})"
   ]
  },
  {
   "cell_type": "code",
   "execution_count": 16,
   "id": "75fd0ebe-2b21-4af0-8226-1eca65d7067b",
   "metadata": {},
   "outputs": [
    {
     "data": {
      "text/plain": [
       "<AxesSubplot:xlabel='date', ylabel='deaths'>"
      ]
     },
     "execution_count": 16,
     "metadata": {},
     "output_type": "execute_result"
    },
    {
     "data": {
      "image/png": "[encoded data removed]",
      "text/plain": [
       "<Figure size 842.4x595.44 with 1 Axes>"
      ]
     },
     "metadata": {},
     "output_type": "display_data"
    }
   ],
   "source": [
    "sns.lineplot(x='date', y='deaths', data=mi)"
   ]
  },
  {
   "cell_type": "markdown",
   "id": "278b7a2c-2da5-4a1d-b500-922ce4310fcb",
   "metadata": {},
   "source": [
    "### Deaths here in Michigan are on the rise considering where they were 30 days ago\n",
    "#### Let's look at what it looks like in my county"
   ]
  },
  {
   "cell_type": "code",
   "execution_count": 17,
   "id": "d5c36ef2-e5fe-441c-bc10-85ea2dc4fef0",
   "metadata": {},
   "outputs": [
    {
     "data": {
      "text/plain": [
       "<AxesSubplot:xlabel='date', ylabel='deaths'>"
      ]
     },
     "execution_count": 17,
     "metadata": {},
     "output_type": "execute_result"
    },
    {
     "data": {
      "image/png": "[encoded data removed]",
      "text/plain": [
       "<Figure size 842.4x595.44 with 1 Axes>"
      ]
     },
     "metadata": {},
     "output_type": "display_data"
    }
   ],
   "source": [
    "sns.lineplot(x='date', y='deaths', data=mi[mi['county'] == 'Macomb'])"
   ]
  },
  {
   "cell_type": "markdown",
   "id": "9f99e9be-5c1b-49c1-8304-4274a54bb15e",
   "metadata": {},
   "source": [
    "### This looks bad. I live in this county and the daily deaths from COVID has risen by about 500\n",
    "#### Let's see if the data is questionable"
   ]
  },
  {
   "cell_type": "code",
   "execution_count": 18,
   "id": "2cd972c3-60aa-4b85-9d9e-64f24eb2e75d",
   "metadata": {},
   "outputs": [
    {
     "data": {
      "text/html": [
       "<div>\n",
       "<style scoped>\n",
       "    .dataframe tbody tr th:only-of-type {\n",
       "        vertical-align: middle;\n",
       "    }\n",
       "\n",
       "    .dataframe tbody tr th {\n",
       "        vertical-align: top;\n",
       "    }\n",
       "\n",
       "    .dataframe thead th {\n",
       "        text-align: right;\n",
       "    }\n",
       "</style>\n",
       "<table border=\"1\" class=\"dataframe\">\n",
       "  <thead>\n",
       "    <tr style=\"text-align: right;\">\n",
       "      <th></th>\n",
       "      <th>date</th>\n",
       "      <th>county</th>\n",
       "      <th>state</th>\n",
       "      <th>fips</th>\n",
       "      <th>cases</th>\n",
       "      <th>deaths</th>\n",
       "    </tr>\n",
       "  </thead>\n",
       "  <tbody>\n",
       "    <tr>\n",
       "      <th>1293</th>\n",
       "      <td>2022-01-27</td>\n",
       "      <td>Macomb</td>\n",
       "      <td>Michigan</td>\n",
       "      <td>26099.0</td>\n",
       "      <td>212077</td>\n",
       "      <td>3530.0</td>\n",
       "    </tr>\n",
       "    <tr>\n",
       "      <th>4547</th>\n",
       "      <td>2022-01-28</td>\n",
       "      <td>Macomb</td>\n",
       "      <td>Michigan</td>\n",
       "      <td>26099.0</td>\n",
       "      <td>214423</td>\n",
       "      <td>3557.0</td>\n",
       "    </tr>\n",
       "    <tr>\n",
       "      <th>7802</th>\n",
       "      <td>2022-01-29</td>\n",
       "      <td>Macomb</td>\n",
       "      <td>Michigan</td>\n",
       "      <td>26099.0</td>\n",
       "      <td>214423</td>\n",
       "      <td>3557.0</td>\n",
       "    </tr>\n",
       "    <tr>\n",
       "      <th>11057</th>\n",
       "      <td>2022-01-30</td>\n",
       "      <td>Macomb</td>\n",
       "      <td>Michigan</td>\n",
       "      <td>26099.0</td>\n",
       "      <td>214423</td>\n",
       "      <td>3557.0</td>\n",
       "    </tr>\n",
       "    <tr>\n",
       "      <th>14312</th>\n",
       "      <td>2022-01-31</td>\n",
       "      <td>Macomb</td>\n",
       "      <td>Michigan</td>\n",
       "      <td>26099.0</td>\n",
       "      <td>216996</td>\n",
       "      <td>3564.0</td>\n",
       "    </tr>\n",
       "    <tr>\n",
       "      <th>17565</th>\n",
       "      <td>2022-02-01</td>\n",
       "      <td>Macomb</td>\n",
       "      <td>Michigan</td>\n",
       "      <td>26099.0</td>\n",
       "      <td>216996</td>\n",
       "      <td>3564.0</td>\n",
       "    </tr>\n",
       "    <tr>\n",
       "      <th>20818</th>\n",
       "      <td>2022-02-02</td>\n",
       "      <td>Macomb</td>\n",
       "      <td>Michigan</td>\n",
       "      <td>26099.0</td>\n",
       "      <td>219141</td>\n",
       "      <td>3611.0</td>\n",
       "    </tr>\n",
       "    <tr>\n",
       "      <th>24070</th>\n",
       "      <td>2022-02-03</td>\n",
       "      <td>Macomb</td>\n",
       "      <td>Michigan</td>\n",
       "      <td>26099.0</td>\n",
       "      <td>219141</td>\n",
       "      <td>3611.0</td>\n",
       "    </tr>\n",
       "    <tr>\n",
       "      <th>27322</th>\n",
       "      <td>2022-02-04</td>\n",
       "      <td>Macomb</td>\n",
       "      <td>Michigan</td>\n",
       "      <td>26099.0</td>\n",
       "      <td>220073</td>\n",
       "      <td>3635.0</td>\n",
       "    </tr>\n",
       "    <tr>\n",
       "      <th>30574</th>\n",
       "      <td>2022-02-05</td>\n",
       "      <td>Macomb</td>\n",
       "      <td>Michigan</td>\n",
       "      <td>26099.0</td>\n",
       "      <td>220073</td>\n",
       "      <td>3635.0</td>\n",
       "    </tr>\n",
       "  </tbody>\n",
       "</table>\n",
       "</div>"
      ],
      "text/plain": [
       "            date  county     state     fips   cases  deaths\n",
       "1293  2022-01-27  Macomb  Michigan  26099.0  212077  3530.0\n",
       "4547  2022-01-28  Macomb  Michigan  26099.0  214423  3557.0\n",
       "7802  2022-01-29  Macomb  Michigan  26099.0  214423  3557.0\n",
       "11057 2022-01-30  Macomb  Michigan  26099.0  214423  3557.0\n",
       "14312 2022-01-31  Macomb  Michigan  26099.0  216996  3564.0\n",
       "17565 2022-02-01  Macomb  Michigan  26099.0  216996  3564.0\n",
       "20818 2022-02-02  Macomb  Michigan  26099.0  219141  3611.0\n",
       "24070 2022-02-03  Macomb  Michigan  26099.0  219141  3611.0\n",
       "27322 2022-02-04  Macomb  Michigan  26099.0  220073  3635.0\n",
       "30574 2022-02-05  Macomb  Michigan  26099.0  220073  3635.0"
      ]
     },
     "execution_count": 18,
     "metadata": {},
     "output_type": "execute_result"
    }
   ],
   "source": [
    "mi[mi['county'] == 'Macomb'].head(10)"
   ]
  },
  {
   "cell_type": "code",
   "execution_count": 19,
   "id": "69b8a121-7551-4a99-9bee-82e4bbef734f",
   "metadata": {},
   "outputs": [
    {
     "data": {
      "text/html": [
       "<div>\n",
       "<style scoped>\n",
       "    .dataframe tbody tr th:only-of-type {\n",
       "        vertical-align: middle;\n",
       "    }\n",
       "\n",
       "    .dataframe tbody tr th {\n",
       "        vertical-align: top;\n",
       "    }\n",
       "\n",
       "    .dataframe thead th {\n",
       "        text-align: right;\n",
       "    }\n",
       "</style>\n",
       "<table border=\"1\" class=\"dataframe\">\n",
       "  <thead>\n",
       "    <tr style=\"text-align: right;\">\n",
       "      <th></th>\n",
       "      <th>date</th>\n",
       "      <th>county</th>\n",
       "      <th>state</th>\n",
       "      <th>fips</th>\n",
       "      <th>cases</th>\n",
       "      <th>deaths</th>\n",
       "    </tr>\n",
       "  </thead>\n",
       "  <tbody>\n",
       "    <tr>\n",
       "      <th>66355</th>\n",
       "      <td>2022-02-16</td>\n",
       "      <td>Macomb</td>\n",
       "      <td>Michigan</td>\n",
       "      <td>26099.0</td>\n",
       "      <td>222947</td>\n",
       "      <td>3738.0</td>\n",
       "    </tr>\n",
       "    <tr>\n",
       "      <th>69606</th>\n",
       "      <td>2022-02-17</td>\n",
       "      <td>Macomb</td>\n",
       "      <td>Michigan</td>\n",
       "      <td>26099.0</td>\n",
       "      <td>222947</td>\n",
       "      <td>3738.0</td>\n",
       "    </tr>\n",
       "    <tr>\n",
       "      <th>72857</th>\n",
       "      <td>2022-02-18</td>\n",
       "      <td>Macomb</td>\n",
       "      <td>Michigan</td>\n",
       "      <td>26099.0</td>\n",
       "      <td>222947</td>\n",
       "      <td>3738.0</td>\n",
       "    </tr>\n",
       "    <tr>\n",
       "      <th>76108</th>\n",
       "      <td>2022-02-19</td>\n",
       "      <td>Macomb</td>\n",
       "      <td>Michigan</td>\n",
       "      <td>26099.0</td>\n",
       "      <td>222947</td>\n",
       "      <td>3738.0</td>\n",
       "    </tr>\n",
       "    <tr>\n",
       "      <th>79359</th>\n",
       "      <td>2022-02-20</td>\n",
       "      <td>Macomb</td>\n",
       "      <td>Michigan</td>\n",
       "      <td>26099.0</td>\n",
       "      <td>223371</td>\n",
       "      <td>3750.0</td>\n",
       "    </tr>\n",
       "    <tr>\n",
       "      <th>82610</th>\n",
       "      <td>2022-02-21</td>\n",
       "      <td>Macomb</td>\n",
       "      <td>Michigan</td>\n",
       "      <td>26099.0</td>\n",
       "      <td>223371</td>\n",
       "      <td>3750.0</td>\n",
       "    </tr>\n",
       "    <tr>\n",
       "      <th>85861</th>\n",
       "      <td>2022-02-22</td>\n",
       "      <td>Macomb</td>\n",
       "      <td>Michigan</td>\n",
       "      <td>26099.0</td>\n",
       "      <td>223371</td>\n",
       "      <td>3750.0</td>\n",
       "    </tr>\n",
       "    <tr>\n",
       "      <th>89113</th>\n",
       "      <td>2022-02-23</td>\n",
       "      <td>Macomb</td>\n",
       "      <td>Michigan</td>\n",
       "      <td>26099.0</td>\n",
       "      <td>224132</td>\n",
       "      <td>3796.0</td>\n",
       "    </tr>\n",
       "    <tr>\n",
       "      <th>92365</th>\n",
       "      <td>2022-02-24</td>\n",
       "      <td>Macomb</td>\n",
       "      <td>Michigan</td>\n",
       "      <td>26099.0</td>\n",
       "      <td>224132</td>\n",
       "      <td>3796.0</td>\n",
       "    </tr>\n",
       "    <tr>\n",
       "      <th>95617</th>\n",
       "      <td>2022-02-25</td>\n",
       "      <td>Macomb</td>\n",
       "      <td>Michigan</td>\n",
       "      <td>26099.0</td>\n",
       "      <td>224824</td>\n",
       "      <td>3808.0</td>\n",
       "    </tr>\n",
       "  </tbody>\n",
       "</table>\n",
       "</div>"
      ],
      "text/plain": [
       "            date  county     state     fips   cases  deaths\n",
       "66355 2022-02-16  Macomb  Michigan  26099.0  222947  3738.0\n",
       "69606 2022-02-17  Macomb  Michigan  26099.0  222947  3738.0\n",
       "72857 2022-02-18  Macomb  Michigan  26099.0  222947  3738.0\n",
       "76108 2022-02-19  Macomb  Michigan  26099.0  222947  3738.0\n",
       "79359 2022-02-20  Macomb  Michigan  26099.0  223371  3750.0\n",
       "82610 2022-02-21  Macomb  Michigan  26099.0  223371  3750.0\n",
       "85861 2022-02-22  Macomb  Michigan  26099.0  223371  3750.0\n",
       "89113 2022-02-23  Macomb  Michigan  26099.0  224132  3796.0\n",
       "92365 2022-02-24  Macomb  Michigan  26099.0  224132  3796.0\n",
       "95617 2022-02-25  Macomb  Michigan  26099.0  224824  3808.0"
      ]
     },
     "execution_count": 19,
     "metadata": {},
     "output_type": "execute_result"
    }
   ],
   "source": [
    "mi[mi['county'] == 'Macomb'].tail(10)"
   ]
  },
  {
   "cell_type": "markdown",
   "id": "a79a5b91-5400-4ed8-812c-743d72a509aa",
   "metadata": {},
   "source": [
    "#### Ok, so this makes more sense. The deaths are cumulative since the start of the pandemic.\n",
    "#### We can cross check our data with this website (https://mcmap.maps.arcgis.com/apps/dashboards/439123f4ca934ceb893927776fcda9f8)"
   ]
  },
  {
   "cell_type": "code",
   "execution_count": 20,
   "id": "7bb8415d-bdfa-484b-b795-5f3a38bfa74d",
   "metadata": {},
   "outputs": [],
   "source": [
    "percentage = sum(df['deaths'])/sum(df['cases'])"
   ]
  },
  {
   "cell_type": "code",
   "execution_count": 21,
   "id": "50f77374-7e3a-4f77-9226-8cffb0dac039",
   "metadata": {},
   "outputs": [
    {
     "data": {
      "text/plain": [
       "1.2"
      ]
     },
     "execution_count": 21,
     "metadata": {},
     "output_type": "execute_result"
    }
   ],
   "source": [
    "# going overall death rate over the past 30 days\n",
    "round(percentage, 3)*100"
   ]
  },
  {
   "cell_type": "code",
   "execution_count": 22,
   "id": "ec2d911c-96f3-4988-ad23-828ab797b95c",
   "metadata": {},
   "outputs": [],
   "source": [
    "mi_percentage = sum(mi['deaths'])/sum(mi['cases'])"
   ]
  },
  {
   "cell_type": "code",
   "execution_count": 23,
   "id": "d7411883-50d1-4ae5-886f-11f91c1921c5",
   "metadata": {},
   "outputs": [
    {
     "data": {
      "text/plain": [
       "1.44"
      ]
     },
     "execution_count": 23,
     "metadata": {},
     "output_type": "execute_result"
    }
   ],
   "source": [
    "# going death rate over the past 30 days in Michigan\n",
    "round(mi_percentage, 4)*100"
   ]
  },
  {
   "cell_type": "code",
   "execution_count": 27,
   "id": "5d277896-4b59-436b-85d4-795c0490c744",
   "metadata": {},
   "outputs": [],
   "source": [
    "macomb = mi[mi['county']=='Macomb']"
   ]
  },
  {
   "cell_type": "markdown",
   "id": "72ea3ebf-7742-4f2c-9df7-1d0147940389",
   "metadata": {},
   "source": [
    "#### It looks like COVID is worse here in Michigan than it is overall"
   ]
  },
  {
   "cell_type": "code",
   "execution_count": 28,
   "id": "47237ba4-e414-4924-b42a-aa579cba57d4",
   "metadata": {},
   "outputs": [],
   "source": [
    "macomb_percentage = sum(macomb['deaths'])/sum(macomb['cases'])"
   ]
  },
  {
   "cell_type": "code",
   "execution_count": 29,
   "id": "437b83dd-e40b-4930-9423-21db045d6079",
   "metadata": {},
   "outputs": [
    {
     "data": {
      "text/plain": [
       "1.66"
      ]
     },
     "execution_count": 29,
     "metadata": {},
     "output_type": "execute_result"
    }
   ],
   "source": [
    "# going death rate over the past 30 days in Macomb, Michigan\n",
    "round(macomb_percentage, 4)*100"
   ]
  },
  {
   "cell_type": "markdown",
   "id": "7a37374b-6253-4791-b830-d30311d54a2a",
   "metadata": {},
   "source": [
    "#### COVID death rates in my county is still pretty low but it looks like it's worse than the average both in Michigan and overall"
   ]
  },
  {
   "cell_type": "code",
   "execution_count": 30,
   "id": "c384e962-7470-45fe-aa28-6597467d182f",
   "metadata": {},
   "outputs": [
    {
     "name": "stderr",
     "output_type": "stream",
     "text": [
      "/var/folders/72/qpl2gs6n0q322mc2k5cf2qyr0000gn/T/ipykernel_56930/2141413672.py:1: SettingWithCopyWarning: \n",
      "A value is trying to be set on a copy of a slice from a DataFrame.\n",
      "Try using .loc[row_indexer,col_indexer] = value instead\n",
      "\n",
      "See the caveats in the documentation: https://pandas.pydata.org/pandas-docs/stable/user_guide/indexing.html#returning-a-view-versus-a-copy\n",
      "  macomb['daily deaths'] = macomb['deaths'].diff()\n"
     ]
    }
   ],
   "source": [
    "macomb['daily deaths'] = macomb['deaths'].diff()"
   ]
  },
  {
   "cell_type": "code",
   "execution_count": 31,
   "id": "a95cd15e-21f2-460a-9325-2b7a2fbdccf6",
   "metadata": {},
   "outputs": [
    {
     "data": {
      "text/html": [
       "<div>\n",
       "<style scoped>\n",
       "    .dataframe tbody tr th:only-of-type {\n",
       "        vertical-align: middle;\n",
       "    }\n",
       "\n",
       "    .dataframe tbody tr th {\n",
       "        vertical-align: top;\n",
       "    }\n",
       "\n",
       "    .dataframe thead th {\n",
       "        text-align: right;\n",
       "    }\n",
       "</style>\n",
       "<table border=\"1\" class=\"dataframe\">\n",
       "  <thead>\n",
       "    <tr style=\"text-align: right;\">\n",
       "      <th></th>\n",
       "      <th>date</th>\n",
       "      <th>county</th>\n",
       "      <th>state</th>\n",
       "      <th>fips</th>\n",
       "      <th>cases</th>\n",
       "      <th>deaths</th>\n",
       "      <th>daily deaths</th>\n",
       "    </tr>\n",
       "  </thead>\n",
       "  <tbody>\n",
       "    <tr>\n",
       "      <th>82610</th>\n",
       "      <td>2022-02-21</td>\n",
       "      <td>Macomb</td>\n",
       "      <td>Michigan</td>\n",
       "      <td>26099.0</td>\n",
       "      <td>223371</td>\n",
       "      <td>3750.0</td>\n",
       "      <td>0.0</td>\n",
       "    </tr>\n",
       "    <tr>\n",
       "      <th>85861</th>\n",
       "      <td>2022-02-22</td>\n",
       "      <td>Macomb</td>\n",
       "      <td>Michigan</td>\n",
       "      <td>26099.0</td>\n",
       "      <td>223371</td>\n",
       "      <td>3750.0</td>\n",
       "      <td>0.0</td>\n",
       "    </tr>\n",
       "    <tr>\n",
       "      <th>89113</th>\n",
       "      <td>2022-02-23</td>\n",
       "      <td>Macomb</td>\n",
       "      <td>Michigan</td>\n",
       "      <td>26099.0</td>\n",
       "      <td>224132</td>\n",
       "      <td>3796.0</td>\n",
       "      <td>46.0</td>\n",
       "    </tr>\n",
       "    <tr>\n",
       "      <th>92365</th>\n",
       "      <td>2022-02-24</td>\n",
       "      <td>Macomb</td>\n",
       "      <td>Michigan</td>\n",
       "      <td>26099.0</td>\n",
       "      <td>224132</td>\n",
       "      <td>3796.0</td>\n",
       "      <td>0.0</td>\n",
       "    </tr>\n",
       "    <tr>\n",
       "      <th>95617</th>\n",
       "      <td>2022-02-25</td>\n",
       "      <td>Macomb</td>\n",
       "      <td>Michigan</td>\n",
       "      <td>26099.0</td>\n",
       "      <td>224824</td>\n",
       "      <td>3808.0</td>\n",
       "      <td>12.0</td>\n",
       "    </tr>\n",
       "  </tbody>\n",
       "</table>\n",
       "</div>"
      ],
      "text/plain": [
       "            date  county     state     fips   cases  deaths  daily deaths\n",
       "82610 2022-02-21  Macomb  Michigan  26099.0  223371  3750.0           0.0\n",
       "85861 2022-02-22  Macomb  Michigan  26099.0  223371  3750.0           0.0\n",
       "89113 2022-02-23  Macomb  Michigan  26099.0  224132  3796.0          46.0\n",
       "92365 2022-02-24  Macomb  Michigan  26099.0  224132  3796.0           0.0\n",
       "95617 2022-02-25  Macomb  Michigan  26099.0  224824  3808.0          12.0"
      ]
     },
     "execution_count": 31,
     "metadata": {},
     "output_type": "execute_result"
    }
   ],
   "source": [
    "macomb.tail()"
   ]
  },
  {
   "cell_type": "code",
   "execution_count": 32,
   "id": "b793aac7-4a88-4898-a8f6-6c48d18e194c",
   "metadata": {},
   "outputs": [
    {
     "name": "stderr",
     "output_type": "stream",
     "text": [
      "/Users/nicholasreardon/opt/anaconda3/lib/python3.9/site-packages/seaborn/_decorators.py:36: FutureWarning: Pass the following variables as keyword args: x, y. From version 0.12, the only valid positional argument will be `data`, and passing other arguments without an explicit keyword will result in an error or misinterpretation.\n",
      "  warnings.warn(\n"
     ]
    },
    {
     "data": {
      "text/plain": [
       "<AxesSubplot:xlabel='date', ylabel='daily deaths'>"
      ]
     },
     "execution_count": 32,
     "metadata": {},
     "output_type": "execute_result"
    },
    {
     "data": {
      "image/png": "[encoded data removed]",
      "text/plain": [
       "<Figure size 842.4x595.44 with 1 Axes>"
      ]
     },
     "metadata": {},
     "output_type": "display_data"
    }
   ],
   "source": [
    "sns.lineplot('date', 'daily deaths', data=macomb)"
   ]
  },
  {
   "cell_type": "markdown",
   "id": "41d53c89-31b1-4aec-af5c-86e31b58d2e8",
   "metadata": {},
   "source": [
    "#### The data is intermittent, which is somewhat suprising to see...\n",
    "\n",
    "#### Let's see if we can get a good forecast using DeepAR (GluonTS)"
   ]
  },
  {
   "cell_type": "code",
   "execution_count": 33,
   "id": "b2d3b777-7201-40d1-901b-cfd3fbe4c178",
   "metadata": {},
   "outputs": [],
   "source": [
    "from gluonts.dataset import common\n",
    "from gluonts.model import deepar\n",
    "from gluonts.mx.trainer import Trainer"
   ]
  },
  {
   "cell_type": "code",
   "execution_count": 34,
   "id": "e90dcc55-bfd1-4aef-a1e1-83d16a1b8eca",
   "metadata": {},
   "outputs": [],
   "source": [
    "macomb.index=macomb['date']\n",
    "del macomb['date']"
   ]
  },
  {
   "cell_type": "code",
   "execution_count": 52,
   "id": "5c42e78d-f37c-4b70-8899-ea16d2e34514",
   "metadata": {},
   "outputs": [
    {
     "name": "stderr",
     "output_type": "stream",
     "text": [
      "/Users/nicholasreardon/opt/anaconda3/lib/python3.9/site-packages/gluonts/transform/split.py:36: FutureWarning: Timestamp.freq is deprecated and will be removed in a future version\n",
      "  return _shift_timestamp_helper(ts, ts.freq, offset)\n",
      "/Users/nicholasreardon/opt/anaconda3/lib/python3.9/site-packages/gluonts/transform/feature.py:352: FutureWarning: Timestamp.freq is deprecated and will be removed in a future version\n",
      "  self._min_time_point, self._max_time_point, freq=start.freq\n",
      "  0%|          | 0/50 [00:00<?, ?it/s]/Users/nicholasreardon/opt/anaconda3/lib/python3.9/site-packages/gluonts/transform/split.py:36: FutureWarning: Timestamp.freq is deprecated and will be removed in a future version\n",
      "  return _shift_timestamp_helper(ts, ts.freq, offset)\n",
      "100%|██████████| 50/50 [00:00<00:00, 74.89it/s, epoch=1/25, avg_epoch_loss=3.56]\n",
      "100%|██████████| 50/50 [00:00<00:00, 78.72it/s, epoch=2/25, avg_epoch_loss=2.73]\n",
      "100%|██████████| 50/50 [00:00<00:00, 76.86it/s, epoch=3/25, avg_epoch_loss=2.34]\n",
      "100%|██████████| 50/50 [00:00<00:00, 77.55it/s, epoch=4/25, avg_epoch_loss=2.05]\n",
      "100%|██████████| 50/50 [00:00<00:00, 79.07it/s, epoch=5/25, avg_epoch_loss=1.86]\n",
      "100%|██████████| 50/50 [00:00<00:00, 78.50it/s, epoch=6/25, avg_epoch_loss=1.67]\n",
      "100%|██████████| 50/50 [00:00<00:00, 79.79it/s, epoch=7/25, avg_epoch_loss=1.58]\n",
      "100%|██████████| 50/50 [00:00<00:00, 79.91it/s, epoch=8/25, avg_epoch_loss=1.49]\n",
      "100%|██████████| 50/50 [00:00<00:00, 79.74it/s, epoch=9/25, avg_epoch_loss=1.36]\n",
      "100%|██████████| 50/50 [00:00<00:00, 78.81it/s, epoch=10/25, avg_epoch_loss=1.29]\n",
      "100%|██████████| 50/50 [00:00<00:00, 79.57it/s, epoch=11/25, avg_epoch_loss=1.21]\n",
      "100%|██████████| 50/50 [00:00<00:00, 78.27it/s, epoch=12/25, avg_epoch_loss=1.14]\n",
      "100%|██████████| 50/50 [00:00<00:00, 79.11it/s, epoch=13/25, avg_epoch_loss=1.04]\n",
      "100%|██████████| 50/50 [00:00<00:00, 74.99it/s, epoch=14/25, avg_epoch_loss=0.972]\n",
      "100%|██████████| 50/50 [00:00<00:00, 77.96it/s, epoch=15/25, avg_epoch_loss=0.955]\n",
      "100%|██████████| 50/50 [00:00<00:00, 78.51it/s, epoch=16/25, avg_epoch_loss=0.889]\n",
      "100%|██████████| 50/50 [00:00<00:00, 79.22it/s, epoch=17/25, avg_epoch_loss=0.804]\n",
      "100%|██████████| 50/50 [00:00<00:00, 79.26it/s, epoch=18/25, avg_epoch_loss=0.83]\n",
      "100%|██████████| 50/50 [00:00<00:00, 79.03it/s, epoch=19/25, avg_epoch_loss=0.711]\n",
      "100%|██████████| 50/50 [00:00<00:00, 79.50it/s, epoch=20/25, avg_epoch_loss=0.678]\n",
      "100%|██████████| 50/50 [00:00<00:00, 79.45it/s, epoch=21/25, avg_epoch_loss=0.619]\n",
      "100%|██████████| 50/50 [00:00<00:00, 77.63it/s, epoch=22/25, avg_epoch_loss=0.629]\n",
      "100%|██████████| 50/50 [00:00<00:00, 75.97it/s, epoch=23/25, avg_epoch_loss=0.545]\n",
      "100%|██████████| 50/50 [00:00<00:00, 79.14it/s, epoch=24/25, avg_epoch_loss=0.596]\n",
      "100%|██████████| 50/50 [00:00<00:00, 79.28it/s, epoch=25/25, avg_epoch_loss=0.649]"
     ]
    },
    {
     "name": "stdout",
     "output_type": "stream",
     "text": [
      "[-2.7871945   3.86978     5.2535458  -0.06253766 -4.68054   ]\n"
     ]
    },
    {
     "name": "stderr",
     "output_type": "stream",
     "text": [
      "\n"
     ]
    },
    {
     "data": {
      "image/png": "[encoded data removed]",
      "text/plain": [
       "<Figure size 842.4x595.44 with 1 Axes>"
      ]
     },
     "metadata": {},
     "output_type": "display_data"
    }
   ],
   "source": [
    "data = common.ListDataset([{\n",
    "    \"start\": macomb.index[0],\n",
    "    \"target\": macomb['daily deaths'][:\"2022-02-20\"]\n",
    "}],\n",
    "                          freq=\"D\")\n",
    "\n",
    "trainer = Trainer(epochs=25)\n",
    "\n",
    "estimator = deepar.DeepAREstimator(\n",
    "    freq=\"D\", prediction_length=5, trainer=trainer)\n",
    "\n",
    "predictor = estimator.train(training_data=data)\n",
    "\n",
    "prediction = next(predictor.predict(data))\n",
    "print(prediction.mean)\n",
    "prediction.plot(output_file='graph.png')"
   ]
  },
  {
   "cell_type": "code",
   "execution_count": 51,
   "id": "cfc18d1d-8068-4a03-b2dc-960bc719ea7a",
   "metadata": {},
   "outputs": [
    {
     "data": {
      "text/plain": [
       "<AxesSubplot:xlabel='date', ylabel='daily deaths'>"
      ]
     },
     "execution_count": 51,
     "metadata": {},
     "output_type": "execute_result"
    },
    {
     "data": {
      "image/png": "[encoded data removed]",
      "text/plain": [
       "<Figure size 842.4x595.44 with 1 Axes>"
      ]
     },
     "metadata": {},
     "output_type": "display_data"
    }
   ],
   "source": [
    "sns.lineplot(macomb.index[-5:],macomb['daily deaths'][\"2022-02-21\":])"
   ]
  },
  {
   "cell_type": "markdown",
   "id": "10b76d7b-3cf7-4682-afdc-6cec14425808",
   "metadata": {},
   "source": [
    "#### Maybe DeepAR is not the best model to go with judging by the two graphs above. When using Deep Learning you typically want to have more data to train with. However, after training other statistical and seasonal models it is apparent that DeepAR is actually the best.\n",
    "\n",
    "#### If you compare the highest point in the DeepAR Forecast you'll see that it is relatively close to what the actual value is minus the intermittent aspect."
   ]
  },
  {
   "cell_type": "code",
   "execution_count": null,
   "id": "b4d4df7a-86df-491d-88e9-8f985ea63b58",
   "metadata": {},
   "outputs": [],
   "source": []
  }
 ],
 "metadata": {
  "kernelspec": {
   "display_name": "Python 3 (ipykernel)",
   "language": "python",
   "name": "python3"
  },
  "language_info": {
   "codemirror_mode": {
    "name": "ipython",
    "version": 3
   },
   "file_extension": ".py",
   "mimetype": "text/x-python",
   "name": "python",
   "nbconvert_exporter": "python",
   "pygments_lexer": "ipython3",
   "version": "3.9.7"
  }
 },
 "nbformat": 4,
 "nbformat_minor": 5
}
